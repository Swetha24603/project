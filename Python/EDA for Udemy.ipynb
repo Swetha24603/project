{
 "cells": [
  {
   "cell_type": "markdown",
   "id": "bbf7370f",
   "metadata": {
    "papermill": {
     "duration": 0.007554,
     "end_time": "2024-12-12T08:09:36.388833",
     "exception": false,
     "start_time": "2024-12-12T08:09:36.381279",
     "status": "completed"
    },
    "tags": []
   },
   "source": [
    "## IMPORT LIBRARIES"
   ]
  },
  {
   "cell_type": "code",
   "execution_count": 1,
   "id": "9ce74373",
   "metadata": {
    "execution": {
     "iopub.execute_input": "2024-12-12T08:09:36.404505Z",
     "iopub.status.busy": "2024-12-12T08:09:36.403979Z",
     "iopub.status.idle": "2024-12-12T08:09:39.064301Z",
     "shell.execute_reply": "2024-12-12T08:09:39.063179Z"
    },
    "papermill": {
     "duration": 2.671069,
     "end_time": "2024-12-12T08:09:39.066913",
     "exception": false,
     "start_time": "2024-12-12T08:09:36.395844",
     "status": "completed"
    },
    "tags": []
   },
   "outputs": [],
   "source": [
    "import pandas as pd\n",
    "import numpy as np\n",
    "import matplotlib.pyplot as plt\n",
    "import seaborn as sns"
   ]
  },
  {
   "cell_type": "markdown",
   "id": "98443ee4",
   "metadata": {
    "papermill": {
     "duration": 0.006599,
     "end_time": "2024-12-12T08:09:39.080850",
     "exception": false,
     "start_time": "2024-12-12T08:09:39.074251",
     "status": "completed"
    },
    "tags": []
   },
   "source": [
    "## LOAD DATASET"
   ]
  },
  {
   "cell_type": "code",
   "execution_count": 2,
   "id": "2faf10c6",
   "metadata": {
    "execution": {
     "iopub.execute_input": "2024-12-12T08:09:39.097389Z",
     "iopub.status.busy": "2024-12-12T08:09:39.096848Z",
     "iopub.status.idle": "2024-12-12T08:09:39.145240Z",
     "shell.execute_reply": "2024-12-12T08:09:39.143968Z"
    },
    "papermill": {
     "duration": 0.059055,
     "end_time": "2024-12-12T08:09:39.147582",
     "exception": false,
     "start_time": "2024-12-12T08:09:39.088527",
     "status": "completed"
    },
    "tags": []
   },
   "outputs": [],
   "source": [
    "df = pd.read_csv('/kaggle/input/udemy-courses-dataset/udemy_courses_dataset.csv')"
   ]
  },
  {
   "cell_type": "markdown",
   "id": "74dec7a3",
   "metadata": {
    "papermill": {
     "duration": 0.006661,
     "end_time": "2024-12-12T08:09:39.161285",
     "exception": false,
     "start_time": "2024-12-12T08:09:39.154624",
     "status": "completed"
    },
    "tags": []
   },
   "source": [
    "## UNDERSTAND THE DATA"
   ]
  },
  {
   "cell_type": "code",
   "execution_count": 3,
   "id": "86bf2fb6",
   "metadata": {
    "execution": {
     "iopub.execute_input": "2024-12-12T08:09:39.176560Z",
     "iopub.status.busy": "2024-12-12T08:09:39.176188Z",
     "iopub.status.idle": "2024-12-12T08:09:39.203123Z",
     "shell.execute_reply": "2024-12-12T08:09:39.201975Z"
    },
    "papermill": {
     "duration": 0.037186,
     "end_time": "2024-12-12T08:09:39.205367",
     "exception": false,
     "start_time": "2024-12-12T08:09:39.168181",
     "status": "completed"
    },
    "tags": []
   },
   "outputs": [
    {
     "data": {
      "text/html": [
       "<div>\n",
       "<style scoped>\n",
       "    .dataframe tbody tr th:only-of-type {\n",
       "        vertical-align: middle;\n",
       "    }\n",
       "\n",
       "    .dataframe tbody tr th {\n",
       "        vertical-align: top;\n",
       "    }\n",
       "\n",
       "    .dataframe thead th {\n",
       "        text-align: right;\n",
       "    }\n",
       "</style>\n",
       "<table border=\"1\" class=\"dataframe\">\n",
       "  <thead>\n",
       "    <tr style=\"text-align: right;\">\n",
       "      <th></th>\n",
       "      <th>course_id</th>\n",
       "      <th>course_title</th>\n",
       "      <th>url</th>\n",
       "      <th>is_paid</th>\n",
       "      <th>price</th>\n",
       "      <th>num_subscribers</th>\n",
       "      <th>num_reviews</th>\n",
       "      <th>num_lectures</th>\n",
       "      <th>level</th>\n",
       "      <th>content_duration</th>\n",
       "      <th>published_timestamp</th>\n",
       "      <th>subject</th>\n",
       "    </tr>\n",
       "  </thead>\n",
       "  <tbody>\n",
       "    <tr>\n",
       "      <th>0</th>\n",
       "      <td>1070968</td>\n",
       "      <td>Ultimate Investment Banking Course</td>\n",
       "      <td>https://www.udemy.com/ultimate-investment-bank...</td>\n",
       "      <td>True</td>\n",
       "      <td>200</td>\n",
       "      <td>2147</td>\n",
       "      <td>23</td>\n",
       "      <td>51</td>\n",
       "      <td>All Levels</td>\n",
       "      <td>1.5</td>\n",
       "      <td>2017-01-18T20:58:58Z</td>\n",
       "      <td>Business Finance</td>\n",
       "    </tr>\n",
       "    <tr>\n",
       "      <th>1</th>\n",
       "      <td>1113822</td>\n",
       "      <td>Complete GST Course &amp; Certification - Grow You...</td>\n",
       "      <td>https://www.udemy.com/goods-and-services-tax/</td>\n",
       "      <td>True</td>\n",
       "      <td>75</td>\n",
       "      <td>2792</td>\n",
       "      <td>923</td>\n",
       "      <td>274</td>\n",
       "      <td>All Levels</td>\n",
       "      <td>39.0</td>\n",
       "      <td>2017-03-09T16:34:20Z</td>\n",
       "      <td>Business Finance</td>\n",
       "    </tr>\n",
       "    <tr>\n",
       "      <th>2</th>\n",
       "      <td>1006314</td>\n",
       "      <td>Financial Modeling for Business Analysts and C...</td>\n",
       "      <td>https://www.udemy.com/financial-modeling-for-b...</td>\n",
       "      <td>True</td>\n",
       "      <td>45</td>\n",
       "      <td>2174</td>\n",
       "      <td>74</td>\n",
       "      <td>51</td>\n",
       "      <td>Intermediate Level</td>\n",
       "      <td>2.5</td>\n",
       "      <td>2016-12-19T19:26:30Z</td>\n",
       "      <td>Business Finance</td>\n",
       "    </tr>\n",
       "    <tr>\n",
       "      <th>3</th>\n",
       "      <td>1210588</td>\n",
       "      <td>Beginner to Pro - Financial Analysis in Excel ...</td>\n",
       "      <td>https://www.udemy.com/complete-excel-finance-c...</td>\n",
       "      <td>True</td>\n",
       "      <td>95</td>\n",
       "      <td>2451</td>\n",
       "      <td>11</td>\n",
       "      <td>36</td>\n",
       "      <td>All Levels</td>\n",
       "      <td>3.0</td>\n",
       "      <td>2017-05-30T20:07:24Z</td>\n",
       "      <td>Business Finance</td>\n",
       "    </tr>\n",
       "    <tr>\n",
       "      <th>4</th>\n",
       "      <td>1011058</td>\n",
       "      <td>How To Maximize Your Profits Trading Options</td>\n",
       "      <td>https://www.udemy.com/how-to-maximize-your-pro...</td>\n",
       "      <td>True</td>\n",
       "      <td>200</td>\n",
       "      <td>1276</td>\n",
       "      <td>45</td>\n",
       "      <td>26</td>\n",
       "      <td>Intermediate Level</td>\n",
       "      <td>2.0</td>\n",
       "      <td>2016-12-13T14:57:18Z</td>\n",
       "      <td>Business Finance</td>\n",
       "    </tr>\n",
       "  </tbody>\n",
       "</table>\n",
       "</div>"
      ],
      "text/plain": [
       "   course_id                                       course_title  \\\n",
       "0    1070968                 Ultimate Investment Banking Course   \n",
       "1    1113822  Complete GST Course & Certification - Grow You...   \n",
       "2    1006314  Financial Modeling for Business Analysts and C...   \n",
       "3    1210588  Beginner to Pro - Financial Analysis in Excel ...   \n",
       "4    1011058       How To Maximize Your Profits Trading Options   \n",
       "\n",
       "                                                 url  is_paid  price  \\\n",
       "0  https://www.udemy.com/ultimate-investment-bank...     True    200   \n",
       "1      https://www.udemy.com/goods-and-services-tax/     True     75   \n",
       "2  https://www.udemy.com/financial-modeling-for-b...     True     45   \n",
       "3  https://www.udemy.com/complete-excel-finance-c...     True     95   \n",
       "4  https://www.udemy.com/how-to-maximize-your-pro...     True    200   \n",
       "\n",
       "   num_subscribers  num_reviews  num_lectures               level  \\\n",
       "0             2147           23            51          All Levels   \n",
       "1             2792          923           274          All Levels   \n",
       "2             2174           74            51  Intermediate Level   \n",
       "3             2451           11            36          All Levels   \n",
       "4             1276           45            26  Intermediate Level   \n",
       "\n",
       "   content_duration   published_timestamp           subject  \n",
       "0               1.5  2017-01-18T20:58:58Z  Business Finance  \n",
       "1              39.0  2017-03-09T16:34:20Z  Business Finance  \n",
       "2               2.5  2016-12-19T19:26:30Z  Business Finance  \n",
       "3               3.0  2017-05-30T20:07:24Z  Business Finance  \n",
       "4               2.0  2016-12-13T14:57:18Z  Business Finance  "
      ]
     },
     "execution_count": 3,
     "metadata": {},
     "output_type": "execute_result"
    }
   ],
   "source": [
    "# pd.set_option('display.max_rows',None)\n",
    "df.head()"
   ]
  },
  {
   "cell_type": "code",
   "execution_count": 4,
   "id": "eec190bb",
   "metadata": {
    "execution": {
     "iopub.execute_input": "2024-12-12T08:09:39.221437Z",
     "iopub.status.busy": "2024-12-12T08:09:39.221061Z",
     "iopub.status.idle": "2024-12-12T08:09:39.249829Z",
     "shell.execute_reply": "2024-12-12T08:09:39.248591Z"
    },
    "papermill": {
     "duration": 0.039713,
     "end_time": "2024-12-12T08:09:39.252273",
     "exception": false,
     "start_time": "2024-12-12T08:09:39.212560",
     "status": "completed"
    },
    "tags": []
   },
   "outputs": [
    {
     "name": "stdout",
     "output_type": "stream",
     "text": [
      "<class 'pandas.core.frame.DataFrame'>\n",
      "RangeIndex: 3678 entries, 0 to 3677\n",
      "Data columns (total 12 columns):\n",
      " #   Column               Non-Null Count  Dtype  \n",
      "---  ------               --------------  -----  \n",
      " 0   course_id            3678 non-null   int64  \n",
      " 1   course_title         3678 non-null   object \n",
      " 2   url                  3678 non-null   object \n",
      " 3   is_paid              3678 non-null   bool   \n",
      " 4   price                3678 non-null   int64  \n",
      " 5   num_subscribers      3678 non-null   int64  \n",
      " 6   num_reviews          3678 non-null   int64  \n",
      " 7   num_lectures         3678 non-null   int64  \n",
      " 8   level                3678 non-null   object \n",
      " 9   content_duration     3678 non-null   float64\n",
      " 10  published_timestamp  3678 non-null   object \n",
      " 11  subject              3678 non-null   object \n",
      "dtypes: bool(1), float64(1), int64(5), object(5)\n",
      "memory usage: 319.8+ KB\n"
     ]
    }
   ],
   "source": [
    "df.info()"
   ]
  },
  {
   "cell_type": "code",
   "execution_count": 5,
   "id": "9afee701",
   "metadata": {
    "execution": {
     "iopub.execute_input": "2024-12-12T08:09:39.268359Z",
     "iopub.status.busy": "2024-12-12T08:09:39.268005Z",
     "iopub.status.idle": "2024-12-12T08:09:39.275163Z",
     "shell.execute_reply": "2024-12-12T08:09:39.273883Z"
    },
    "papermill": {
     "duration": 0.017755,
     "end_time": "2024-12-12T08:09:39.277178",
     "exception": false,
     "start_time": "2024-12-12T08:09:39.259423",
     "status": "completed"
    },
    "tags": []
   },
   "outputs": [
    {
     "data": {
      "text/plain": [
       "(3678, 12)"
      ]
     },
     "execution_count": 5,
     "metadata": {},
     "output_type": "execute_result"
    }
   ],
   "source": [
    "df.shape"
   ]
  },
  {
   "cell_type": "code",
   "execution_count": 6,
   "id": "30316a03",
   "metadata": {
    "execution": {
     "iopub.execute_input": "2024-12-12T08:09:39.293499Z",
     "iopub.status.busy": "2024-12-12T08:09:39.292728Z",
     "iopub.status.idle": "2024-12-12T08:09:39.299823Z",
     "shell.execute_reply": "2024-12-12T08:09:39.298771Z"
    },
    "papermill": {
     "duration": 0.017372,
     "end_time": "2024-12-12T08:09:39.301865",
     "exception": false,
     "start_time": "2024-12-12T08:09:39.284493",
     "status": "completed"
    },
    "tags": []
   },
   "outputs": [
    {
     "data": {
      "text/plain": [
       "Index(['course_id', 'course_title', 'url', 'is_paid', 'price',\n",
       "       'num_subscribers', 'num_reviews', 'num_lectures', 'level',\n",
       "       'content_duration', 'published_timestamp', 'subject'],\n",
       "      dtype='object')"
      ]
     },
     "execution_count": 6,
     "metadata": {},
     "output_type": "execute_result"
    }
   ],
   "source": [
    "df.columns"
   ]
  },
  {
   "cell_type": "code",
   "execution_count": 7,
   "id": "3dbab4bc",
   "metadata": {
    "execution": {
     "iopub.execute_input": "2024-12-12T08:09:39.318254Z",
     "iopub.status.busy": "2024-12-12T08:09:39.317898Z",
     "iopub.status.idle": "2024-12-12T08:09:39.347478Z",
     "shell.execute_reply": "2024-12-12T08:09:39.346394Z"
    },
    "papermill": {
     "duration": 0.040472,
     "end_time": "2024-12-12T08:09:39.349948",
     "exception": false,
     "start_time": "2024-12-12T08:09:39.309476",
     "status": "completed"
    },
    "tags": []
   },
   "outputs": [
    {
     "data": {
      "text/html": [
       "<div>\n",
       "<style scoped>\n",
       "    .dataframe tbody tr th:only-of-type {\n",
       "        vertical-align: middle;\n",
       "    }\n",
       "\n",
       "    .dataframe tbody tr th {\n",
       "        vertical-align: top;\n",
       "    }\n",
       "\n",
       "    .dataframe thead th {\n",
       "        text-align: right;\n",
       "    }\n",
       "</style>\n",
       "<table border=\"1\" class=\"dataframe\">\n",
       "  <thead>\n",
       "    <tr style=\"text-align: right;\">\n",
       "      <th></th>\n",
       "      <th>course_id</th>\n",
       "      <th>price</th>\n",
       "      <th>num_subscribers</th>\n",
       "      <th>num_reviews</th>\n",
       "      <th>num_lectures</th>\n",
       "      <th>content_duration</th>\n",
       "    </tr>\n",
       "  </thead>\n",
       "  <tbody>\n",
       "    <tr>\n",
       "      <th>count</th>\n",
       "      <td>3.678000e+03</td>\n",
       "      <td>3678.000000</td>\n",
       "      <td>3678.000000</td>\n",
       "      <td>3678.000000</td>\n",
       "      <td>3678.000000</td>\n",
       "      <td>3678.000000</td>\n",
       "    </tr>\n",
       "    <tr>\n",
       "      <th>mean</th>\n",
       "      <td>6.759720e+05</td>\n",
       "      <td>66.049483</td>\n",
       "      <td>3197.150625</td>\n",
       "      <td>156.259108</td>\n",
       "      <td>40.108755</td>\n",
       "      <td>4.094517</td>\n",
       "    </tr>\n",
       "    <tr>\n",
       "      <th>std</th>\n",
       "      <td>3.432732e+05</td>\n",
       "      <td>61.005755</td>\n",
       "      <td>9504.117010</td>\n",
       "      <td>935.452044</td>\n",
       "      <td>50.383346</td>\n",
       "      <td>6.053840</td>\n",
       "    </tr>\n",
       "    <tr>\n",
       "      <th>min</th>\n",
       "      <td>8.324000e+03</td>\n",
       "      <td>0.000000</td>\n",
       "      <td>0.000000</td>\n",
       "      <td>0.000000</td>\n",
       "      <td>0.000000</td>\n",
       "      <td>0.000000</td>\n",
       "    </tr>\n",
       "    <tr>\n",
       "      <th>25%</th>\n",
       "      <td>4.076925e+05</td>\n",
       "      <td>20.000000</td>\n",
       "      <td>111.000000</td>\n",
       "      <td>4.000000</td>\n",
       "      <td>15.000000</td>\n",
       "      <td>1.000000</td>\n",
       "    </tr>\n",
       "    <tr>\n",
       "      <th>50%</th>\n",
       "      <td>6.879170e+05</td>\n",
       "      <td>45.000000</td>\n",
       "      <td>911.500000</td>\n",
       "      <td>18.000000</td>\n",
       "      <td>25.000000</td>\n",
       "      <td>2.000000</td>\n",
       "    </tr>\n",
       "    <tr>\n",
       "      <th>75%</th>\n",
       "      <td>9.613555e+05</td>\n",
       "      <td>95.000000</td>\n",
       "      <td>2546.000000</td>\n",
       "      <td>67.000000</td>\n",
       "      <td>45.750000</td>\n",
       "      <td>4.500000</td>\n",
       "    </tr>\n",
       "    <tr>\n",
       "      <th>max</th>\n",
       "      <td>1.282064e+06</td>\n",
       "      <td>200.000000</td>\n",
       "      <td>268923.000000</td>\n",
       "      <td>27445.000000</td>\n",
       "      <td>779.000000</td>\n",
       "      <td>78.500000</td>\n",
       "    </tr>\n",
       "  </tbody>\n",
       "</table>\n",
       "</div>"
      ],
      "text/plain": [
       "          course_id        price  num_subscribers   num_reviews  num_lectures  \\\n",
       "count  3.678000e+03  3678.000000      3678.000000   3678.000000   3678.000000   \n",
       "mean   6.759720e+05    66.049483      3197.150625    156.259108     40.108755   \n",
       "std    3.432732e+05    61.005755      9504.117010    935.452044     50.383346   \n",
       "min    8.324000e+03     0.000000         0.000000      0.000000      0.000000   \n",
       "25%    4.076925e+05    20.000000       111.000000      4.000000     15.000000   \n",
       "50%    6.879170e+05    45.000000       911.500000     18.000000     25.000000   \n",
       "75%    9.613555e+05    95.000000      2546.000000     67.000000     45.750000   \n",
       "max    1.282064e+06   200.000000    268923.000000  27445.000000    779.000000   \n",
       "\n",
       "       content_duration  \n",
       "count       3678.000000  \n",
       "mean           4.094517  \n",
       "std            6.053840  \n",
       "min            0.000000  \n",
       "25%            1.000000  \n",
       "50%            2.000000  \n",
       "75%            4.500000  \n",
       "max           78.500000  "
      ]
     },
     "execution_count": 7,
     "metadata": {},
     "output_type": "execute_result"
    }
   ],
   "source": [
    "df.describe()"
   ]
  },
  {
   "cell_type": "code",
   "execution_count": 8,
   "id": "fdf8f081",
   "metadata": {
    "execution": {
     "iopub.execute_input": "2024-12-12T08:09:39.366884Z",
     "iopub.status.busy": "2024-12-12T08:09:39.366445Z",
     "iopub.status.idle": "2024-12-12T08:09:39.380162Z",
     "shell.execute_reply": "2024-12-12T08:09:39.378703Z"
    },
    "papermill": {
     "duration": 0.024887,
     "end_time": "2024-12-12T08:09:39.382522",
     "exception": false,
     "start_time": "2024-12-12T08:09:39.357635",
     "status": "completed"
    },
    "tags": []
   },
   "outputs": [
    {
     "data": {
      "text/plain": [
       "6"
      ]
     },
     "execution_count": 8,
     "metadata": {},
     "output_type": "execute_result"
    }
   ],
   "source": [
    "df.duplicated().sum()"
   ]
  },
  {
   "cell_type": "markdown",
   "id": "ced187f0",
   "metadata": {
    "papermill": {
     "duration": 0.007233,
     "end_time": "2024-12-12T08:09:39.397663",
     "exception": false,
     "start_time": "2024-12-12T08:09:39.390430",
     "status": "completed"
    },
    "tags": []
   },
   "source": [
    "## DATA CLEANING AND TRANSFORMATION"
   ]
  },
  {
   "cell_type": "code",
   "execution_count": 9,
   "id": "de429f7b",
   "metadata": {
    "execution": {
     "iopub.execute_input": "2024-12-12T08:09:39.414455Z",
     "iopub.status.busy": "2024-12-12T08:09:39.414112Z",
     "iopub.status.idle": "2024-12-12T08:09:39.434012Z",
     "shell.execute_reply": "2024-12-12T08:09:39.432910Z"
    },
    "papermill": {
     "duration": 0.031099,
     "end_time": "2024-12-12T08:09:39.436322",
     "exception": false,
     "start_time": "2024-12-12T08:09:39.405223",
     "status": "completed"
    },
    "tags": []
   },
   "outputs": [
    {
     "data": {
      "text/plain": [
       "0"
      ]
     },
     "execution_count": 9,
     "metadata": {},
     "output_type": "execute_result"
    }
   ],
   "source": [
    "df = df.drop_duplicates()\n",
    "df.duplicated().sum()"
   ]
  },
  {
   "cell_type": "code",
   "execution_count": 10,
   "id": "d93f622f",
   "metadata": {
    "execution": {
     "iopub.execute_input": "2024-12-12T08:09:39.453722Z",
     "iopub.status.busy": "2024-12-12T08:09:39.453321Z",
     "iopub.status.idle": "2024-12-12T08:09:39.463049Z",
     "shell.execute_reply": "2024-12-12T08:09:39.461947Z"
    },
    "papermill": {
     "duration": 0.02114,
     "end_time": "2024-12-12T08:09:39.465354",
     "exception": false,
     "start_time": "2024-12-12T08:09:39.444214",
     "status": "completed"
    },
    "tags": []
   },
   "outputs": [
    {
     "data": {
      "text/plain": [
       "course_id              0\n",
       "course_title           0\n",
       "url                    0\n",
       "is_paid                0\n",
       "price                  0\n",
       "num_subscribers        0\n",
       "num_reviews            0\n",
       "num_lectures           0\n",
       "level                  0\n",
       "content_duration       0\n",
       "published_timestamp    0\n",
       "subject                0\n",
       "dtype: int64"
      ]
     },
     "execution_count": 10,
     "metadata": {},
     "output_type": "execute_result"
    }
   ],
   "source": [
    "df.isna().sum()"
   ]
  },
  {
   "cell_type": "code",
   "execution_count": 11,
   "id": "37f7f6e6",
   "metadata": {
    "execution": {
     "iopub.execute_input": "2024-12-12T08:09:39.482824Z",
     "iopub.status.busy": "2024-12-12T08:09:39.482402Z",
     "iopub.status.idle": "2024-12-12T08:09:39.497664Z",
     "shell.execute_reply": "2024-12-12T08:09:39.496516Z"
    },
    "papermill": {
     "duration": 0.026987,
     "end_time": "2024-12-12T08:09:39.500286",
     "exception": false,
     "start_time": "2024-12-12T08:09:39.473299",
     "status": "completed"
    },
    "tags": []
   },
   "outputs": [],
   "source": [
    "# Convert ['published_timestamp'] column dtype to DateTime\n",
    "df['published_timestamp'] = pd.to_datetime(df['published_timestamp'])"
   ]
  },
  {
   "cell_type": "markdown",
   "id": "00d9960d",
   "metadata": {
    "papermill": {
     "duration": 0.00767,
     "end_time": "2024-12-12T08:09:39.516206",
     "exception": false,
     "start_time": "2024-12-12T08:09:39.508536",
     "status": "completed"
    },
    "tags": []
   },
   "source": [
    "## ANALYZE THE COLUMN "
   ]
  },
  {
   "cell_type": "code",
   "execution_count": 12,
   "id": "3a9f3b83",
   "metadata": {
    "execution": {
     "iopub.execute_input": "2024-12-12T08:09:39.533823Z",
     "iopub.status.busy": "2024-12-12T08:09:39.533402Z",
     "iopub.status.idle": "2024-12-12T08:09:39.544156Z",
     "shell.execute_reply": "2024-12-12T08:09:39.543034Z"
    },
    "papermill": {
     "duration": 0.022152,
     "end_time": "2024-12-12T08:09:39.546415",
     "exception": false,
     "start_time": "2024-12-12T08:09:39.524263",
     "status": "completed"
    },
    "tags": []
   },
   "outputs": [
    {
     "data": {
      "text/plain": [
       "course_title\n",
       "Acoustic Blues Guitar Lessons                                   3\n",
       "Creating an animated greeting card via Google Slides            3\n",
       "Aprende a tocar el acordeón de botones                          2\n",
       "Drum Lessons For Beginners                                      2\n",
       "Introduction to Web Development                                 2\n",
       "How to Make a Wordpress Website 2017                            2\n",
       "The Complete Web Developer Masterclass: Beginner To Advanced    2\n",
       "Instant Harmonica - play Yesterday + Scarborough Fair today!    1\n",
       "Violin lessons for beginners                                    1\n",
       "Old-Time Banjo for the Absolute Beginner                        1\n",
       "Name: count, dtype: int64"
      ]
     },
     "execution_count": 12,
     "metadata": {},
     "output_type": "execute_result"
    }
   ],
   "source": [
    "df.course_title.value_counts().head(10)"
   ]
  },
  {
   "cell_type": "code",
   "execution_count": 13,
   "id": "bcb96cc6",
   "metadata": {
    "execution": {
     "iopub.execute_input": "2024-12-12T08:09:39.563845Z",
     "iopub.status.busy": "2024-12-12T08:09:39.563430Z",
     "iopub.status.idle": "2024-12-12T08:09:39.571274Z",
     "shell.execute_reply": "2024-12-12T08:09:39.570192Z"
    },
    "papermill": {
     "duration": 0.019041,
     "end_time": "2024-12-12T08:09:39.573464",
     "exception": false,
     "start_time": "2024-12-12T08:09:39.554423",
     "status": "completed"
    },
    "tags": []
   },
   "outputs": [],
   "source": [
    "df = df.drop('url',axis=1)"
   ]
  },
  {
   "cell_type": "code",
   "execution_count": 14,
   "id": "12f70294",
   "metadata": {
    "execution": {
     "iopub.execute_input": "2024-12-12T08:09:39.591087Z",
     "iopub.status.busy": "2024-12-12T08:09:39.590694Z",
     "iopub.status.idle": "2024-12-12T08:09:39.604665Z",
     "shell.execute_reply": "2024-12-12T08:09:39.603620Z"
    },
    "papermill": {
     "duration": 0.025032,
     "end_time": "2024-12-12T08:09:39.606676",
     "exception": false,
     "start_time": "2024-12-12T08:09:39.581644",
     "status": "completed"
    },
    "tags": []
   },
   "outputs": [
    {
     "data": {
      "text/html": [
       "<div>\n",
       "<style scoped>\n",
       "    .dataframe tbody tr th:only-of-type {\n",
       "        vertical-align: middle;\n",
       "    }\n",
       "\n",
       "    .dataframe tbody tr th {\n",
       "        vertical-align: top;\n",
       "    }\n",
       "\n",
       "    .dataframe thead th {\n",
       "        text-align: right;\n",
       "    }\n",
       "</style>\n",
       "<table border=\"1\" class=\"dataframe\">\n",
       "  <thead>\n",
       "    <tr style=\"text-align: right;\">\n",
       "      <th></th>\n",
       "      <th>course_id</th>\n",
       "      <th>course_title</th>\n",
       "      <th>is_paid</th>\n",
       "      <th>price</th>\n",
       "      <th>num_subscribers</th>\n",
       "      <th>num_reviews</th>\n",
       "      <th>num_lectures</th>\n",
       "      <th>level</th>\n",
       "      <th>content_duration</th>\n",
       "      <th>published_timestamp</th>\n",
       "      <th>subject</th>\n",
       "    </tr>\n",
       "  </thead>\n",
       "  <tbody>\n",
       "    <tr>\n",
       "      <th>0</th>\n",
       "      <td>1070968</td>\n",
       "      <td>Ultimate Investment Banking Course</td>\n",
       "      <td>True</td>\n",
       "      <td>200</td>\n",
       "      <td>2147</td>\n",
       "      <td>23</td>\n",
       "      <td>51</td>\n",
       "      <td>All Levels</td>\n",
       "      <td>1.5</td>\n",
       "      <td>2017-01-18 20:58:58+00:00</td>\n",
       "      <td>Business Finance</td>\n",
       "    </tr>\n",
       "    <tr>\n",
       "      <th>1</th>\n",
       "      <td>1113822</td>\n",
       "      <td>Complete GST Course &amp; Certification - Grow You...</td>\n",
       "      <td>True</td>\n",
       "      <td>75</td>\n",
       "      <td>2792</td>\n",
       "      <td>923</td>\n",
       "      <td>274</td>\n",
       "      <td>All Levels</td>\n",
       "      <td>39.0</td>\n",
       "      <td>2017-03-09 16:34:20+00:00</td>\n",
       "      <td>Business Finance</td>\n",
       "    </tr>\n",
       "    <tr>\n",
       "      <th>2</th>\n",
       "      <td>1006314</td>\n",
       "      <td>Financial Modeling for Business Analysts and C...</td>\n",
       "      <td>True</td>\n",
       "      <td>45</td>\n",
       "      <td>2174</td>\n",
       "      <td>74</td>\n",
       "      <td>51</td>\n",
       "      <td>Intermediate Level</td>\n",
       "      <td>2.5</td>\n",
       "      <td>2016-12-19 19:26:30+00:00</td>\n",
       "      <td>Business Finance</td>\n",
       "    </tr>\n",
       "  </tbody>\n",
       "</table>\n",
       "</div>"
      ],
      "text/plain": [
       "   course_id                                       course_title  is_paid  \\\n",
       "0    1070968                 Ultimate Investment Banking Course     True   \n",
       "1    1113822  Complete GST Course & Certification - Grow You...     True   \n",
       "2    1006314  Financial Modeling for Business Analysts and C...     True   \n",
       "\n",
       "   price  num_subscribers  num_reviews  num_lectures               level  \\\n",
       "0    200             2147           23            51          All Levels   \n",
       "1     75             2792          923           274          All Levels   \n",
       "2     45             2174           74            51  Intermediate Level   \n",
       "\n",
       "   content_duration       published_timestamp           subject  \n",
       "0               1.5 2017-01-18 20:58:58+00:00  Business Finance  \n",
       "1              39.0 2017-03-09 16:34:20+00:00  Business Finance  \n",
       "2               2.5 2016-12-19 19:26:30+00:00  Business Finance  "
      ]
     },
     "execution_count": 14,
     "metadata": {},
     "output_type": "execute_result"
    }
   ],
   "source": [
    "df.head(3)"
   ]
  },
  {
   "cell_type": "code",
   "execution_count": 15,
   "id": "7eb1469e",
   "metadata": {
    "execution": {
     "iopub.execute_input": "2024-12-12T08:09:39.626121Z",
     "iopub.status.busy": "2024-12-12T08:09:39.625736Z",
     "iopub.status.idle": "2024-12-12T08:09:39.632796Z",
     "shell.execute_reply": "2024-12-12T08:09:39.631744Z"
    },
    "papermill": {
     "duration": 0.020142,
     "end_time": "2024-12-12T08:09:39.635020",
     "exception": false,
     "start_time": "2024-12-12T08:09:39.614878",
     "status": "completed"
    },
    "tags": []
   },
   "outputs": [
    {
     "data": {
      "text/plain": [
       "array([ True, False])"
      ]
     },
     "execution_count": 15,
     "metadata": {},
     "output_type": "execute_result"
    }
   ],
   "source": [
    "df.is_paid.unique()"
   ]
  },
  {
   "cell_type": "code",
   "execution_count": 16,
   "id": "be187a4d",
   "metadata": {
    "execution": {
     "iopub.execute_input": "2024-12-12T08:09:39.653847Z",
     "iopub.status.busy": "2024-12-12T08:09:39.653436Z",
     "iopub.status.idle": "2024-12-12T08:09:39.663097Z",
     "shell.execute_reply": "2024-12-12T08:09:39.662059Z"
    },
    "papermill": {
     "duration": 0.021764,
     "end_time": "2024-12-12T08:09:39.665300",
     "exception": false,
     "start_time": "2024-12-12T08:09:39.643536",
     "status": "completed"
    },
    "tags": []
   },
   "outputs": [
    {
     "data": {
      "text/plain": [
       "is_paid\n",
       "True     3362\n",
       "False     310\n",
       "Name: count, dtype: int64"
      ]
     },
     "execution_count": 16,
     "metadata": {},
     "output_type": "execute_result"
    }
   ],
   "source": [
    "paid_or_free = df.is_paid.value_counts()\n",
    "paid_or_free"
   ]
  },
  {
   "cell_type": "code",
   "execution_count": 17,
   "id": "c7d6783c",
   "metadata": {
    "execution": {
     "iopub.execute_input": "2024-12-12T08:09:39.683544Z",
     "iopub.status.busy": "2024-12-12T08:09:39.683150Z",
     "iopub.status.idle": "2024-12-12T08:09:39.690475Z",
     "shell.execute_reply": "2024-12-12T08:09:39.689537Z"
    },
    "papermill": {
     "duration": 0.018997,
     "end_time": "2024-12-12T08:09:39.692706",
     "exception": false,
     "start_time": "2024-12-12T08:09:39.673709",
     "status": "completed"
    },
    "tags": []
   },
   "outputs": [
    {
     "data": {
      "text/plain": [
       "array(['All Levels', 'Intermediate Level', 'Beginner Level',\n",
       "       'Expert Level'], dtype=object)"
      ]
     },
     "execution_count": 17,
     "metadata": {},
     "output_type": "execute_result"
    }
   ],
   "source": [
    "df.level.unique()"
   ]
  },
  {
   "cell_type": "code",
   "execution_count": 18,
   "id": "fcaa21c0",
   "metadata": {
    "execution": {
     "iopub.execute_input": "2024-12-12T08:09:39.711759Z",
     "iopub.status.busy": "2024-12-12T08:09:39.711352Z",
     "iopub.status.idle": "2024-12-12T08:09:39.721644Z",
     "shell.execute_reply": "2024-12-12T08:09:39.720549Z"
    },
    "papermill": {
     "duration": 0.02246,
     "end_time": "2024-12-12T08:09:39.723854",
     "exception": false,
     "start_time": "2024-12-12T08:09:39.701394",
     "status": "completed"
    },
    "tags": []
   },
   "outputs": [
    {
     "data": {
      "text/plain": [
       "level\n",
       "All Levels            6871791\n",
       "Beginner Level        4051843\n",
       "Expert Level            50196\n",
       "Intermediate Level     742005\n",
       "Name: num_subscribers, dtype: int64"
      ]
     },
     "execution_count": 18,
     "metadata": {},
     "output_type": "execute_result"
    }
   ],
   "source": [
    "course_level = df.level.value_counts()\n",
    "course_level = df.groupby('level')['num_subscribers'].sum()\n",
    "course_level"
   ]
  },
  {
   "cell_type": "code",
   "execution_count": 19,
   "id": "bc94e362",
   "metadata": {
    "execution": {
     "iopub.execute_input": "2024-12-12T08:09:39.742773Z",
     "iopub.status.busy": "2024-12-12T08:09:39.742335Z",
     "iopub.status.idle": "2024-12-12T08:09:39.753877Z",
     "shell.execute_reply": "2024-12-12T08:09:39.752776Z"
    },
    "papermill": {
     "duration": 0.023838,
     "end_time": "2024-12-12T08:09:39.756279",
     "exception": false,
     "start_time": "2024-12-12T08:09:39.732441",
     "status": "completed"
    },
    "tags": []
   },
   "outputs": [
    {
     "data": {
      "text/plain": [
       "count    3672.000000\n",
       "mean        4.097603\n",
       "std         6.057830\n",
       "min         0.000000\n",
       "25%         1.000000\n",
       "50%         2.000000\n",
       "75%         4.500000\n",
       "max        78.500000\n",
       "Name: content_duration, dtype: float64"
      ]
     },
     "execution_count": 19,
     "metadata": {},
     "output_type": "execute_result"
    }
   ],
   "source": [
    "df.content_duration.describe()"
   ]
  },
  {
   "cell_type": "markdown",
   "id": "7d70a6bf",
   "metadata": {
    "papermill": {
     "duration": 0.008321,
     "end_time": "2024-12-12T08:09:39.773721",
     "exception": false,
     "start_time": "2024-12-12T08:09:39.765400",
     "status": "completed"
    },
    "tags": []
   },
   "source": [
    "affordable_courses = df[df['price'] < 50]\r\n",
    "total_enrollments =df['num_subscribers']].sum(.affordable_courses\n",
    "total_enrollments\")\r\n"
   ]
  },
  {
   "cell_type": "code",
   "execution_count": 20,
   "id": "02a04d60",
   "metadata": {
    "execution": {
     "iopub.execute_input": "2024-12-12T08:09:39.793173Z",
     "iopub.status.busy": "2024-12-12T08:09:39.792301Z",
     "iopub.status.idle": "2024-12-12T08:09:39.800110Z",
     "shell.execute_reply": "2024-12-12T08:09:39.799016Z"
    },
    "papermill": {
     "duration": 0.019916,
     "end_time": "2024-12-12T08:09:39.802188",
     "exception": false,
     "start_time": "2024-12-12T08:09:39.782272",
     "status": "completed"
    },
    "tags": []
   },
   "outputs": [
    {
     "data": {
      "text/plain": [
       "array(['Business Finance', 'Graphic Design', 'Musical Instruments',\n",
       "       'Web Development'], dtype=object)"
      ]
     },
     "execution_count": 20,
     "metadata": {},
     "output_type": "execute_result"
    }
   ],
   "source": [
    "df.subject.unique()"
   ]
  },
  {
   "cell_type": "code",
   "execution_count": 21,
   "id": "912f3f2f",
   "metadata": {
    "execution": {
     "iopub.execute_input": "2024-12-12T08:09:39.821408Z",
     "iopub.status.busy": "2024-12-12T08:09:39.821029Z",
     "iopub.status.idle": "2024-12-12T08:09:39.830268Z",
     "shell.execute_reply": "2024-12-12T08:09:39.829197Z"
    },
    "papermill": {
     "duration": 0.021336,
     "end_time": "2024-12-12T08:09:39.832407",
     "exception": false,
     "start_time": "2024-12-12T08:09:39.811071",
     "status": "completed"
    },
    "tags": []
   },
   "outputs": [
    {
     "data": {
      "text/plain": [
       "0     429400\n",
       "1     209400\n",
       "2      97830\n",
       "3     232845\n",
       "4     255200\n",
       "5    1383150\n",
       "6     100100\n",
       "7     277115\n",
       "8    1008540\n",
       "9     165400\n",
       "Name: revenue, dtype: int64"
      ]
     },
     "execution_count": 21,
     "metadata": {},
     "output_type": "execute_result"
    }
   ],
   "source": [
    "df['revenue'] = df['price'] * df['num_subscribers']\n",
    "df.revenue.head(10)"
   ]
  },
  {
   "cell_type": "code",
   "execution_count": 22,
   "id": "d3799893",
   "metadata": {
    "execution": {
     "iopub.execute_input": "2024-12-12T08:09:39.851427Z",
     "iopub.status.busy": "2024-12-12T08:09:39.851064Z",
     "iopub.status.idle": "2024-12-12T08:09:39.860110Z",
     "shell.execute_reply": "2024-12-12T08:09:39.858852Z"
    },
    "papermill": {
     "duration": 0.021,
     "end_time": "2024-12-12T08:09:39.862147",
     "exception": false,
     "start_time": "2024-12-12T08:09:39.841147",
     "status": "completed"
    },
    "tags": []
   },
   "outputs": [
    {
     "name": "stdout",
     "output_type": "stream",
     "text": [
      "Affordable courses contribute 49.24% of total subscribers.\n",
      "Focus on offering more affordable courses to capture this cost-sensitive audience.\n"
     ]
    }
   ],
   "source": [
    "affordable_courses = df[df['price'] < 50]\n",
    "total_subscribers = df['num_subscribers'].sum()\n",
    "df_affordable= (affordable_courses['num_subscribers'].sum() / total_subscribers) * 100\n",
    "print(f\"Affordable courses contribute {df_affordable:.2f}% of total subscribers.\")\n",
    "if df_affordable > 40:\n",
    "    print(\"Focus on offering more affordable courses to capture this cost-sensitive audience.\")"
   ]
  },
  {
   "cell_type": "markdown",
   "id": "4e35c773",
   "metadata": {
    "papermill": {
     "duration": 0.008363,
     "end_time": "2024-12-12T08:09:39.879472",
     "exception": false,
     "start_time": "2024-12-12T08:09:39.871109",
     "status": "completed"
    },
    "tags": []
   },
   "source": [
    "## DATA VISUALIZATION"
   ]
  },
  {
   "cell_type": "code",
   "execution_count": 23,
   "id": "004cec45",
   "metadata": {
    "execution": {
     "iopub.execute_input": "2024-12-12T08:09:39.899991Z",
     "iopub.status.busy": "2024-12-12T08:09:39.899584Z",
     "iopub.status.idle": "2024-12-12T08:09:39.912026Z",
     "shell.execute_reply": "2024-12-12T08:09:39.911038Z"
    },
    "papermill": {
     "duration": 0.025344,
     "end_time": "2024-12-12T08:09:39.914221",
     "exception": false,
     "start_time": "2024-12-12T08:09:39.888877",
     "status": "completed"
    },
    "tags": []
   },
   "outputs": [
    {
     "data": {
      "text/html": [
       "<div>\n",
       "<style scoped>\n",
       "    .dataframe tbody tr th:only-of-type {\n",
       "        vertical-align: middle;\n",
       "    }\n",
       "\n",
       "    .dataframe tbody tr th {\n",
       "        vertical-align: top;\n",
       "    }\n",
       "\n",
       "    .dataframe thead th {\n",
       "        text-align: right;\n",
       "    }\n",
       "</style>\n",
       "<table border=\"1\" class=\"dataframe\">\n",
       "  <thead>\n",
       "    <tr style=\"text-align: right;\">\n",
       "      <th></th>\n",
       "      <th>course_title</th>\n",
       "      <th>num_subscribers</th>\n",
       "    </tr>\n",
       "  </thead>\n",
       "  <tbody>\n",
       "    <tr>\n",
       "      <th>2827</th>\n",
       "      <td>Learn HTML5 Programming From Scratch</td>\n",
       "      <td>268923</td>\n",
       "    </tr>\n",
       "    <tr>\n",
       "      <th>3032</th>\n",
       "      <td>Coding for Entrepreneurs Basic</td>\n",
       "      <td>161029</td>\n",
       "    </tr>\n",
       "    <tr>\n",
       "      <th>3230</th>\n",
       "      <td>The Web Developer Bootcamp</td>\n",
       "      <td>121584</td>\n",
       "    </tr>\n",
       "    <tr>\n",
       "      <th>2783</th>\n",
       "      <td>Build Your First Website in 1 Week with HTML5 ...</td>\n",
       "      <td>120291</td>\n",
       "    </tr>\n",
       "    <tr>\n",
       "      <th>3232</th>\n",
       "      <td>The Complete Web Developer Course 2.0</td>\n",
       "      <td>114512</td>\n",
       "    </tr>\n",
       "  </tbody>\n",
       "</table>\n",
       "</div>"
      ],
      "text/plain": [
       "                                           course_title  num_subscribers\n",
       "2827               Learn HTML5 Programming From Scratch           268923\n",
       "3032                     Coding for Entrepreneurs Basic           161029\n",
       "3230                         The Web Developer Bootcamp           121584\n",
       "2783  Build Your First Website in 1 Week with HTML5 ...           120291\n",
       "3232              The Complete Web Developer Course 2.0           114512"
      ]
     },
     "execution_count": 23,
     "metadata": {},
     "output_type": "execute_result"
    }
   ],
   "source": [
    "# Top 5 most demand courses\n",
    "\n",
    "top_courses = df[['course_title','num_subscribers']].sort_values(by='num_subscribers',ascending = False).head(5)\n",
    "top_courses"
   ]
  },
  {
   "cell_type": "code",
   "execution_count": 24,
   "id": "0ebd0822",
   "metadata": {
    "execution": {
     "iopub.execute_input": "2024-12-12T08:09:39.933964Z",
     "iopub.status.busy": "2024-12-12T08:09:39.933541Z",
     "iopub.status.idle": "2024-12-12T08:09:40.244526Z",
     "shell.execute_reply": "2024-12-12T08:09:40.243415Z"
    },
    "papermill": {
     "duration": 0.323651,
     "end_time": "2024-12-12T08:09:40.246746",
     "exception": false,
     "start_time": "2024-12-12T08:09:39.923095",
     "status": "completed"
    },
    "tags": []
   },
   "outputs": [
    {
     "data": {
      "image/png": "[encoded data removed]",
      "text/plain": [
       "<Figure size 640x480 with 1 Axes>"
      ]
     },
     "metadata": {},
     "output_type": "display_data"
    }
   ],
   "source": [
    "# Bar Chart for top 5 most demand course\n",
    "top_courses.plot(kind='barh',\n",
    "                 x='course_title',\n",
    "                 y='num_subscribers',\n",
    "                 color='mediumseagreen')\n",
    "plt.title('Top 5 popular courses ')\n",
    "plt.ylabel('Course title')\n",
    "plt.xlabel('No of Subscribers')\n",
    "plt.gca().invert_yaxis()\n",
    "plt.legend().remove()\n",
    "plt.show()"
   ]
  },
  {
   "cell_type": "code",
   "execution_count": 25,
   "id": "3b66c1a3",
   "metadata": {
    "execution": {
     "iopub.execute_input": "2024-12-12T08:09:40.268693Z",
     "iopub.status.busy": "2024-12-12T08:09:40.267663Z",
     "iopub.status.idle": "2024-12-12T08:09:40.279671Z",
     "shell.execute_reply": "2024-12-12T08:09:40.278491Z"
    },
    "papermill": {
     "duration": 0.02578,
     "end_time": "2024-12-12T08:09:40.282326",
     "exception": false,
     "start_time": "2024-12-12T08:09:40.256546",
     "status": "completed"
    },
    "tags": []
   },
   "outputs": [],
   "source": [
    "# Number of Subscribers and Average Sales per year\n",
    "df['year'] = df['published_timestamp'].dt.year\n",
    "avg_sales = df.groupby('year')['num_subscribers'].mean()\n",
    "no_of_courses = df.groupby('year')['course_title'].count()"
   ]
  },
  {
   "cell_type": "code",
   "execution_count": 26,
   "id": "be4c6799",
   "metadata": {
    "execution": {
     "iopub.execute_input": "2024-12-12T08:09:40.304785Z",
     "iopub.status.busy": "2024-12-12T08:09:40.303694Z",
     "iopub.status.idle": "2024-12-12T08:09:40.823749Z",
     "shell.execute_reply": "2024-12-12T08:09:40.822556Z"
    },
    "papermill": {
     "duration": 0.534232,
     "end_time": "2024-12-12T08:09:40.826630",
     "exception": false,
     "start_time": "2024-12-12T08:09:40.292398",
     "status": "completed"
    },
    "tags": []
   },
   "outputs": [
    {
     "data": {
      "image/png": "[encoded data removed]",
      "text/plain": [
       "<Figure size 640x480 with 2 Axes>"
      ]
     },
     "metadata": {},
     "output_type": "display_data"
    }
   ],
   "source": [
    "# Line Chart for Number of Subscribers and Average Sales per year\n",
    "fig,ax = plt.subplots(2,1)\n",
    "avg_sales.plot(kind='line',\n",
    "               ax=ax[0],\n",
    "               linestyle='--',\n",
    "               color='cornflowerblue',\n",
    "               linewidth=2, \n",
    "               marker='o')\n",
    "ax[0].set_title('Average sales per year')\n",
    "ax[0].set_xlabel('year')\n",
    "ax[0].set_ylabel('Average No of subscribers')\n",
    "\n",
    "no_of_courses.plot(kind='line',\n",
    "                   ax=ax[1],\n",
    "                   linestyle='--', \n",
    "                   color='cornflowerblue',\n",
    "                   linewidth=2,\n",
    "                   marker='o')\n",
    "ax[1].set_title('No of Courses per year')\n",
    "ax[1].set_xlabel('year')\n",
    "ax[1].set_ylabel('No of Courses')\n",
    "\n",
    "plt.tight_layout()\n",
    "plt.show()"
   ]
  },
  {
   "cell_type": "code",
   "execution_count": 27,
   "id": "acbf76aa",
   "metadata": {
    "execution": {
     "iopub.execute_input": "2024-12-12T08:09:40.852429Z",
     "iopub.status.busy": "2024-12-12T08:09:40.852021Z",
     "iopub.status.idle": "2024-12-12T08:09:41.254707Z",
     "shell.execute_reply": "2024-12-12T08:09:41.253527Z"
    },
    "papermill": {
     "duration": 0.417658,
     "end_time": "2024-12-12T08:09:41.256951",
     "exception": false,
     "start_time": "2024-12-12T08:09:40.839293",
     "status": "completed"
    },
    "tags": []
   },
   "outputs": [
    {
     "data": {
      "text/plain": [
       "<function matplotlib.pyplot.show(close=None, block=None)>"
      ]
     },
     "execution_count": 27,
     "metadata": {},
     "output_type": "execute_result"
    },
    {
     "data": {
      "image/png": "[encoded data removed]",
      "text/plain": [
       "<Figure size 640x480 with 1 Axes>"
      ]
     },
     "metadata": {},
     "output_type": "display_data"
    }
   ],
   "source": [
    "# Scatterplot for No of Reviews and the Content duration\n",
    "course_by_review = df.sort_values(by='num_reviews',ascending=False).head(5)\n",
    "sns.scatterplot(data=course_by_review\n",
    "                ,x='content_duration',\n",
    "                y='course_title',\n",
    "                size='num_reviews',\n",
    "                sizes=(300,850),\n",
    "                hue='num_reviews',\n",
    "                palette='copper')\n",
    "plt.title('Top 5 Courses - Content duration and Reviews')\n",
    "plt.xlabel('Content Duration (hours)')\n",
    "plt.ylabel('Course Title')\n",
    "plt.legend().set_visible(False)\n",
    "plt.show"
   ]
  },
  {
   "cell_type": "code",
   "execution_count": 28,
   "id": "b7141428",
   "metadata": {
    "execution": {
     "iopub.execute_input": "2024-12-12T08:09:41.282112Z",
     "iopub.status.busy": "2024-12-12T08:09:41.281736Z",
     "iopub.status.idle": "2024-12-12T08:09:41.643129Z",
     "shell.execute_reply": "2024-12-12T08:09:41.641548Z"
    },
    "papermill": {
     "duration": 0.379246,
     "end_time": "2024-12-12T08:09:41.647959",
     "exception": false,
     "start_time": "2024-12-12T08:09:41.268713",
     "status": "completed"
    },
    "tags": []
   },
   "outputs": [
    {
     "data": {
      "image/png": "[encoded data removed]",
      "text/plain": [
       "<Figure size 640x480 with 2 Axes>"
      ]
     },
     "metadata": {},
     "output_type": "display_data"
    }
   ],
   "source": [
    "# Piechart for Paid vs Free courses and Number of Subscribers per level\n",
    "fig,ax=plt.subplots(1,2)\n",
    "figsize=(40,20)\n",
    "ax[0].pie(paid_or_free,\n",
    "        labels=['Paid','Free'],\n",
    "        autopct='%1.1f%%',\n",
    "        colors=['indianred','lightcoral'],\n",
    "        startangle=30,\n",
    "        explode=[0.1,0.1])\n",
    "ax[0].set_title('Paid vs Free Courses')\n",
    "\n",
    "ax[1].pie(course_level,\n",
    "        labels=course_level.index,\n",
    "        autopct='%1.1f%%',\n",
    "        colors=['firebrick','coral','crimson','peru'],  \n",
    "        startangle=30,\n",
    "        explode = [0, 0.1, 0.1, 0.2])\n",
    "ax[1].set_title('Number of Subcribers')\n",
    "plt.tight_layout()\n",
    "plt.show()"
   ]
  },
  {
   "cell_type": "code",
   "execution_count": 29,
   "id": "460bb98b",
   "metadata": {
    "execution": {
     "iopub.execute_input": "2024-12-12T08:09:41.696068Z",
     "iopub.status.busy": "2024-12-12T08:09:41.695702Z",
     "iopub.status.idle": "2024-12-12T08:09:41.709168Z",
     "shell.execute_reply": "2024-12-12T08:09:41.708098Z"
    },
    "papermill": {
     "duration": 0.029986,
     "end_time": "2024-12-12T08:09:41.711185",
     "exception": false,
     "start_time": "2024-12-12T08:09:41.681199",
     "status": "completed"
    },
    "tags": []
   },
   "outputs": [
    {
     "data": {
      "text/html": [
       "<div>\n",
       "<style scoped>\n",
       "    .dataframe tbody tr th:only-of-type {\n",
       "        vertical-align: middle;\n",
       "    }\n",
       "\n",
       "    .dataframe tbody tr th {\n",
       "        vertical-align: top;\n",
       "    }\n",
       "\n",
       "    .dataframe thead th {\n",
       "        text-align: right;\n",
       "    }\n",
       "</style>\n",
       "<table border=\"1\" class=\"dataframe\">\n",
       "  <thead>\n",
       "    <tr style=\"text-align: right;\">\n",
       "      <th></th>\n",
       "      <th>price</th>\n",
       "      <th>num_reviews</th>\n",
       "      <th>num_subscribers</th>\n",
       "      <th>revenue</th>\n",
       "    </tr>\n",
       "  </thead>\n",
       "  <tbody>\n",
       "    <tr>\n",
       "      <th>price</th>\n",
       "      <td>1.000000</td>\n",
       "      <td>0.113568</td>\n",
       "      <td>0.050436</td>\n",
       "      <td>0.346828</td>\n",
       "    </tr>\n",
       "    <tr>\n",
       "      <th>num_reviews</th>\n",
       "      <td>0.113568</td>\n",
       "      <td>1.000000</td>\n",
       "      <td>0.651070</td>\n",
       "      <td>0.770577</td>\n",
       "    </tr>\n",
       "    <tr>\n",
       "      <th>num_subscribers</th>\n",
       "      <td>0.050436</td>\n",
       "      <td>0.651070</td>\n",
       "      <td>1.000000</td>\n",
       "      <td>0.555712</td>\n",
       "    </tr>\n",
       "    <tr>\n",
       "      <th>revenue</th>\n",
       "      <td>0.346828</td>\n",
       "      <td>0.770577</td>\n",
       "      <td>0.555712</td>\n",
       "      <td>1.000000</td>\n",
       "    </tr>\n",
       "  </tbody>\n",
       "</table>\n",
       "</div>"
      ],
      "text/plain": [
       "                    price  num_reviews  num_subscribers   revenue\n",
       "price            1.000000     0.113568         0.050436  0.346828\n",
       "num_reviews      0.113568     1.000000         0.651070  0.770577\n",
       "num_subscribers  0.050436     0.651070         1.000000  0.555712\n",
       "revenue          0.346828     0.770577         0.555712  1.000000"
      ]
     },
     "execution_count": 29,
     "metadata": {},
     "output_type": "execute_result"
    }
   ],
   "source": [
    "num_corr = df[['price','num_reviews','num_subscribers','revenue']].corr()\n",
    "num_corr"
   ]
  },
  {
   "cell_type": "code",
   "execution_count": 30,
   "id": "063ab46c",
   "metadata": {
    "execution": {
     "iopub.execute_input": "2024-12-12T08:09:41.737230Z",
     "iopub.status.busy": "2024-12-12T08:09:41.736894Z",
     "iopub.status.idle": "2024-12-12T08:09:42.122194Z",
     "shell.execute_reply": "2024-12-12T08:09:42.120905Z"
    },
    "papermill": {
     "duration": 0.40106,
     "end_time": "2024-12-12T08:09:42.124547",
     "exception": false,
     "start_time": "2024-12-12T08:09:41.723487",
     "status": "completed"
    },
    "tags": []
   },
   "outputs": [
    {
     "data": {
      "text/plain": [
       "Text(0.5, 1.0, 'Correlation Heatmap: Price, Subscribers, Reviews, Revenue')"
      ]
     },
     "execution_count": 30,
     "metadata": {},
     "output_type": "execute_result"
    },
    {
     "data": {
      "image/png": "[encoded data removed]",
      "text/plain": [
       "<Figure size 1200x800 with 2 Axes>"
      ]
     },
     "metadata": {},
     "output_type": "display_data"
    }
   ],
   "source": [
    "plt.figure(figsize=(12,8))\n",
    "sns.heatmap(num_corr,annot=True,cmap='Blues')\n",
    "plt.title(\"Correlation Heatmap: Price, Subscribers, Reviews, Revenue\" )"
   ]
  },
  {
   "cell_type": "code",
   "execution_count": 31,
   "id": "1c785a73",
   "metadata": {
    "execution": {
     "iopub.execute_input": "2024-12-12T08:09:42.152194Z",
     "iopub.status.busy": "2024-12-12T08:09:42.151827Z",
     "iopub.status.idle": "2024-12-12T08:09:42.505971Z",
     "shell.execute_reply": "2024-12-12T08:09:42.504799Z"
    },
    "papermill": {
     "duration": 0.370847,
     "end_time": "2024-12-12T08:09:42.508347",
     "exception": false,
     "start_time": "2024-12-12T08:09:42.137500",
     "status": "completed"
    },
    "tags": []
   },
   "outputs": [
    {
     "data": {
      "image/png": "[encoded data removed]",
      "text/plain": [
       "<Figure size 640x480 with 1 Axes>"
      ]
     },
     "metadata": {},
     "output_type": "display_data"
    }
   ],
   "source": [
    "# Boxplt for Price distribution for all subjects\n",
    "sns.boxplot(data=df, \n",
    "            x='subject', \n",
    "            y='price',\n",
    "            palette = 'brg')\n",
    "\n",
    "plt.title('Price Distribution by Subject')\n",
    "plt.xlabel('Subject')\n",
    "plt.ylabel('Price')\n",
    "plt.tight_layout()\n",
    "plt.show()\n"
   ]
  }
 ],
 "metadata": {
  "kaggle": {
   "accelerator": "none",
   "dataSources": [
    {
     "datasetId": 5964646,
     "sourceId": 9743811,
     "sourceType": "datasetVersion"
    }
   ],
   "dockerImageVersionId": 30786,
   "isGpuEnabled": false,
   "isInternetEnabled": false,
   "language": "python",
   "sourceType": "notebook"
  },
  "kernelspec": {
   "display_name": "Python 3",
   "language": "python",
   "name": "python3"
  },
  "language_info": {
   "codemirror_mode": {
    "name": "ipython",
    "version": 3
   },
   "file_extension": ".py",
   "mimetype": "text/x-python",
   "name": "python",
   "nbconvert_exporter": "python",
   "pygments_lexer": "ipython3",
   "version": "3.10.14"
  },
  "papermill": {
   "default_parameters": {},
   "duration": 9.542693,
   "end_time": "2024-12-12T08:09:43.144065",
   "environment_variables": {},
   "exception": null,
   "input_path": "__notebook__.ipynb",
   "output_path": "__notebook__.ipynb",
   "parameters": {},
   "start_time": "2024-12-12T08:09:33.601372",
   "version": "2.6.0"
  }
 },
 "nbformat": 4,
 "nbformat_minor": 5
}
